{
 "cells": [
  {
   "cell_type": "code",
   "execution_count": 2,
   "metadata": {},
   "outputs": [],
   "source": [
    "import requests\n",
    "from bs4 import BeautifulSoup"
   ]
  },
  {
   "cell_type": "code",
   "execution_count": 55,
   "metadata": {},
   "outputs": [],
   "source": [
    "def get_webpage(url, tag, attr_type, val): # 先寫死 attribute: id\n",
    "    r = requests.get(url)\n",
    "    soup = BeautifulSoup(r.text, \"html.parser\")\n",
    "    if attr_type == \"id\":\n",
    "        result = soup.find(tag, id=val)\n",
    "    elif attr_type == \"class\":\n",
    "        result = soup.find(tag, class=val)\n",
    "    sel = result.select(\"a\")\n",
    "    \n",
    "    return sel\n",
    "sel = get_webpage(\"https://movies.yahoo.com.tw/\", \"ul\", \"mainmenu\")"
   ]
  },
  {
   "cell_type": "code",
   "execution_count": 49,
   "metadata": {},
   "outputs": [],
   "source": [
    "# print(result)\n",
    "# print(sel)"
   ]
  },
  {
   "cell_type": "code",
   "execution_count": 56,
   "metadata": {},
   "outputs": [
    {
     "name": "stdout",
     "output_type": "stream",
     "text": [
      "{'本週新片': 'https://movies.yahoo.com.tw/movie_thisweek.html', '上映中': 'https://movies.yahoo.com.tw/movie_intheaters.html', '即將上映': 'https://movies.yahoo.com.tw/movie_comingsoon.html', '預告片': 'https://movies.yahoo.com.tw/trailer_index.html'}\n"
     ]
    }
   ],
   "source": [
    "mainmenu=dict()\n",
    "for s in sel:\n",
    "    for t in ['本週新片', '上映中', '即將上映', '預告片']: \n",
    "        if t in s.text: # 是以上這些種類的, 連結存放到 main menu\n",
    "            mainmenu[t]=s['href']\n",
    "print(mainmenu)"
   ]
  },
  {
   "cell_type": "code",
   "execution_count": null,
   "metadata": {},
   "outputs": [],
   "source": [
    "# 前三個 release_movie_name\n",
    "for m in mainmenu:\n",
    "    "
   ]
  },
  {
   "cell_type": "code",
   "execution_count": null,
   "metadata": {},
   "outputs": [],
   "source": [
    "# 預告片 格式不同另外處理"
   ]
  }
 ],
 "metadata": {
  "kernelspec": {
   "display_name": "Python 3",
   "language": "python",
   "name": "python3"
  },
  "language_info": {
   "codemirror_mode": {
    "name": "ipython",
    "version": 3
   },
   "file_extension": ".py",
   "mimetype": "text/x-python",
   "name": "python",
   "nbconvert_exporter": "python",
   "pygments_lexer": "ipython3",
   "version": "3.7.6"
  }
 },
 "nbformat": 4,
 "nbformat_minor": 4
}
