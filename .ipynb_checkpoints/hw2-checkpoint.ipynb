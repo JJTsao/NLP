{
 "cells": [
  {
   "cell_type": "code",
   "execution_count": 2,
   "metadata": {},
   "outputs": [],
   "source": [
    "import requests\n",
    "from bs4 import BeautifulSoup"
   ]
  },
  {
   "cell_type": "code",
   "execution_count": 41,
   "metadata": {},
   "outputs": [],
   "source": [
    "r = requests.get(\"https://movies.yahoo.com.tw/\")\n",
    "soup = BeautifulSoup(r.text, \"html.parser\")\n",
    "result = soup.find(\"ul\", id=\"mainmenu\")\n",
    "sel = result.select(\"a\")"
   ]
  },
  {
   "cell_type": "code",
   "execution_count": 49,
   "metadata": {},
   "outputs": [],
   "source": [
    "# print(result)\n",
    "# print(sel)"
   ]
  },
  {
   "cell_type": "code",
   "execution_count": 48,
   "metadata": {},
   "outputs": [
    {
     "name": "stdout",
     "output_type": "stream",
     "text": [
      "{'本週新片': 'https://movies.yahoo.com.tw/movie_thisweek.html', '上映中': 'https://movies.yahoo.com.tw/movie_intheaters.html', '即將上映': 'https://movies.yahoo.com.tw/movie_comingsoon.html', '預告片': 'https://movies.yahoo.com.tw/trailer_index.html'}\n"
     ]
    }
   ],
   "source": [
    "mainmenu=dict()\n",
    "for s in sel:\n",
    "    for t in ['本週新片', '上映中', '即將上映', '預告片']: \n",
    "        if t in s.text: # 是以上這些種類的, 連結存放到 main menu\n",
    "            mainmenu[t]=s['href']\n",
    "print(mainmenu)"
   ]
  },
  {
   "cell_type": "code",
   "execution_count": null,
   "metadata": {},
   "outputs": [],
   "source": [
    "# for m in mainmenu:\n",
    "#     url = "
   ]
  }
 ],
 "metadata": {
  "kernelspec": {
   "display_name": "Python 3",
   "language": "python",
   "name": "python3"
  },
  "language_info": {
   "codemirror_mode": {
    "name": "ipython",
    "version": 3
   },
   "file_extension": ".py",
   "mimetype": "text/x-python",
   "name": "python",
   "nbconvert_exporter": "python",
   "pygments_lexer": "ipython3",
   "version": "3.7.6"
  }
 },
 "nbformat": 4,
 "nbformat_minor": 4
}
