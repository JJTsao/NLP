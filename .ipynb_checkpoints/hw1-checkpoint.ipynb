{
 "cells": [
  {
   "cell_type": "code",
   "execution_count": 97,
   "metadata": {},
   "outputs": [],
   "source": [
    "#enconding=utf-8\n",
    "import jieba\n",
    "import collections\n",
    "import matplotlib.pyplot as plt\n",
    "import numpy as np\n",
    "\n",
    "jieba.set_dictionary('./dict.txt')"
   ]
  },
  {
   "cell_type": "code",
   "execution_count": 127,
   "metadata": {},
   "outputs": [],
   "source": [
    "def preprocessing(articles):\n",
    "    dataset = list()\n",
    "    all_words_count = dict()\n",
    "    for article in articles[:3]: # 先少一點\n",
    "        sentences = article[:-1].replace(' ', '').replace('？', '').replace('！', '').replace('，', '').replace('。', '').replace('；', '').split('\\t') # sentences: list\n",
    "        # print(sentences)\n",
    "        parsed_sentences = list()\n",
    "        for sentence in sentences:\n",
    "            words = list(jieba.cut(sentence, cut_all=False)) # 一句一句切\n",
    "            parsed_sentences.append(words) # 切過的句子組合成文章\n",
    "        # print(parsed_sentences)\n",
    "        dataset.append(parsed_sentences) # 文章組合成檔案集 # parsed_sentences = article\n",
    "    # print(dataset)\n",
    "    return list(dataset)"
   ]
  },
  {
   "cell_type": "code",
   "execution_count": 134,
   "metadata": {},
   "outputs": [],
   "source": [
    "def tf(t, article): # t: 詞, d: 文章(一行的全部句子)\n",
    "    word_statistics_in_article = collections.Counter()\n",
    "    for sentence in article:\n",
    "        word_statistics_in_article += collections.Counter(sentence)\n",
    "    # print(word_statistics_in_article)\n",
    "    ### 計算 tf\n",
    "    total = sum(word_statistics_in_article.values(), 0.0)\n",
    "    word_tf_in_article = {key: round((val/total), 2) for key, val in word_statistics_in_article.items()}\n",
    "    print(word_tf_in_article)\n",
    "    return None"
   ]
  },
  {
   "cell_type": "code",
   "execution_count": null,
   "metadata": {},
   "outputs": [],
   "source": [
    "def idf(dataset, t):\n",
    "    "
   ]
  },
  {
   "cell_type": "code",
   "execution_count": 135,
   "metadata": {},
   "outputs": [
    {
     "name": "stdout",
     "output_type": "stream",
     "text": [
      "Counter({'這群': 2, '人': 2, '為什麼': 1, '聖': 1, '結石': 1, '會': 1, '被': 1, '酸': 1, '而': 1, '不會': 1, '質感': 1, '劇本': 1, '成員': 1, '都': 1, '差': 1, '很多': 1, '好': 1, '嗎': 1, '不要': 1, '拿': 1, '腎結石': 1, '來': 1, '污辱': 1})\n",
      "None\n",
      "Counter({'是': 2, '為什麼': 1, '慶祝': 1, '228': 1, '會': 1, '被': 1, '罵': 1, '可是': 1, '慶': 1, '端午': 1, '不會': 1, '因為': 1, '屈原': 1, '不': 1, '台灣人': 1, '楚': 1, '國人': 1})\n",
      "None\n",
      "Counter({'阿瑞': 2, '斯': 2, '有沒有': 1, '戰神': 1, '的': 1, '八卦': 1, '?': 1, '爵士': 1, '就是': 1, '男': 1, '主角': 1, '最後': 1, '死': 1, '了': 1})\n",
      "None\n"
     ]
    }
   ],
   "source": [
    "def main():\n",
    "    file = open(\"./hw1-dataset.txt\", mode='r')\n",
    "    articles = file.readlines()\n",
    "    dataset = preprocessing(articles)\n",
    "    \n",
    "    for article in dataset:\n",
    "        print(tf('為什麼', article))\n",
    "    \n",
    "    file.close()\n",
    "main()"
   ]
  },
  {
   "cell_type": "code",
   "execution_count": null,
   "metadata": {},
   "outputs": [],
   "source": []
  },
  {
   "cell_type": "code",
   "execution_count": 15,
   "metadata": {},
   "outputs": [
    {
     "name": "stdout",
     "output_type": "stream",
     "text": [
      "['為什麼 聖結石 會被酸而 這群人 不會？\\t質感 劇本 成員 都差很多好嗎 不要拿腎結石來污辱這群人\\n', '為什麼慶祝228會被罵可是慶端午不會？\\t因為屈原不是台灣人，是楚國人。\\n', '有沒有戰神阿瑞斯的八卦?\\t爵士就是阿瑞斯 男主角最後死了\\n']\n"
     ]
    }
   ],
   "source": [
    "dataset = open(\"./hw1-dataset.txt\", mode='r')\n",
    "articles = list()\n",
    "for article in dataset: # article: 一行算一個文章\n",
    "    articles.append(article)\n",
    "    \n",
    "dataset.close()\n",
    "print(articles[:3])"
   ]
  },
  {
   "cell_type": "code",
   "execution_count": null,
   "metadata": {},
   "outputs": [],
   "source": []
  }
 ],
 "metadata": {
  "kernelspec": {
   "display_name": "Python 3",
   "language": "python",
   "name": "python3"
  },
  "language_info": {
   "codemirror_mode": {
    "name": "ipython",
    "version": 3
   },
   "file_extension": ".py",
   "mimetype": "text/x-python",
   "name": "python",
   "nbconvert_exporter": "python",
   "pygments_lexer": "ipython3",
   "version": "3.7.6"
  }
 },
 "nbformat": 4,
 "nbformat_minor": 4
}
