{
 "cells": [
  {
   "cell_type": "code",
   "execution_count": 2,
   "metadata": {},
   "outputs": [],
   "source": [
    "import requests\n",
    "from bs4 import BeautifulSoup\n",
    "import re"
   ]
  },
  {
   "cell_type": "code",
   "execution_count": 3,
   "metadata": {},
   "outputs": [],
   "source": [
    "def get_webpage(url, tag, attr_type, val): # 先寫死 attribute: id\n",
    "    r = requests.get(url)\n",
    "    soup = BeautifulSoup(r.text, \"html.parser\")\n",
    "    if attr_type == \"id\":\n",
    "        result = soup.find(tag, id=val)\n",
    "    elif attr_type == \"class\":\n",
    "        result = soup.find_all(tag, class_=val) # class 是保留字, bs4 用 class_\n",
    "    return result"
   ]
  },
  {
   "cell_type": "code",
   "execution_count": 4,
   "metadata": {},
   "outputs": [],
   "source": [
    "def get_movie_pages(menuUrl):\n",
    "    movieList = get_webpage(menuUrl, \"div\", \"class\", \"release_movie_name\")\n",
    "    moviePages = list()\n",
    "    for movie in movieList:\n",
    "        # print(movie.select(\"a\"))\n",
    "        movieChiName = re.sub(r'\\s', '', movie.select(\"a\")[0].text)\n",
    "        movieEngName = re.sub(r'\\s', '', movie.select(\"a\")[1].text)\n",
    "        movieUrl = movie.select(\"a\")[0]['href']\n",
    "        moviePages.append([movieChiName, movieEngName, movieUrl])\n",
    "    return moviePages"
   ]
  },
  {
   "cell_type": "code",
   "execution_count": 5,
   "metadata": {},
   "outputs": [],
   "source": [
    "def get_movie_info(movieInfo):\n",
    "    # 分類\n",
    "    movieClassSec = get_webpage(movieInfo[2], \"div\", \"class\", \"level_name_box\")\n",
    "    movieInfo.append([re.sub(r'\\s', '', movieCls.text) for movieCls in movieClassSec[0].select(\"a\")])\n",
    "    # 上映次數\n",
    "    moviePage = get_webpage(movieInfo[2], \"div\", \"class\", \"movie_intro_info_r\")\n",
    "    movieInfo.append(moviePage[0].find(\"span\").text)\n",
    "    # 劇情介紹\n",
    "    movieStory = get_webpage(movieInfo[2], \"span\", \"id\", \"story\")\n",
    "    movieInfo.append(re.sub(r'\\s', '', movieStory.text))\n",
    "    \n",
    "    return movieInfo[:2] + movieInfo[3:]"
   ]
  },
  {
   "cell_type": "code",
   "execution_count": null,
   "metadata": {},
   "outputs": [],
   "source": [
    "def main():\n",
    "    file = open('movie_info.txt', 'w')\n",
    "    sel = get_webpage(\"https://movies.yahoo.com.tw/\", \"ul\", \"id\", \"mainmenu\").select(\"a\")\n",
    "    mainmenu = dict()\n",
    "    for s in sel:\n",
    "        for t in ['本週新片', '上映中', '即將上映']: \n",
    "            if t in s.text: # 是以上這些種類的, 連結存放到 main menu\n",
    "                mainmenu[t] = s['href']\n",
    "    movieMenu = list()\n",
    "    for movie, url in mainmenu.items(): # movieMenu: [[[Name, Name, Url], [Name, Name, Url]], [...]]\n",
    "        movieMenu.append(get_movie_pages(url))\n",
    "        # pass\n",
    "    movieInfoList = list()\n",
    "    for movieList in movieMenu: # movieList: [[Name, Name, Url], [Name, Name, Url]]\n",
    "        tmp = list()\n",
    "        for movie in movieList: # movie: [Name, Name, Url]\n",
    "            movieInfo = get_movie_info(movie)\n",
    "            tmp.append(movieInfo)\n",
    "            # write to file\n",
    "            for i in range(len(movieInfo)):\n",
    "                if i == 2:\n",
    "                    file.write(', '.join(movieInfo[i]) + '\\n')\n",
    "                else:\n",
    "                    file.write(movieInfo[i] + '\\n')\n",
    "        movieInfoList.append(tmp)\n",
    "    \n",
    "    # file.writelines(','.join(movieInfoList))\n",
    "    file.close()\n",
    "    # print(movieInfoList)\n",
    "main()"
   ]
  },
  {
   "cell_type": "code",
   "execution_count": null,
   "metadata": {},
   "outputs": [],
   "source": []
  },
  {
   "cell_type": "code",
   "execution_count": null,
   "metadata": {},
   "outputs": [],
   "source": []
  },
  {
   "cell_type": "code",
   "execution_count": null,
   "metadata": {},
   "outputs": [],
   "source": []
  },
  {
   "cell_type": "code",
   "execution_count": null,
   "metadata": {},
   "outputs": [],
   "source": []
  }
 ],
 "metadata": {
  "kernelspec": {
   "display_name": "Python 3",
   "language": "python",
   "name": "python3"
  },
  "language_info": {
   "codemirror_mode": {
    "name": "ipython",
    "version": 3
   },
   "file_extension": ".py",
   "mimetype": "text/x-python",
   "name": "python",
   "nbconvert_exporter": "python",
   "pygments_lexer": "ipython3",
   "version": "3.7.6"
  }
 },
 "nbformat": 4,
 "nbformat_minor": 4
}
