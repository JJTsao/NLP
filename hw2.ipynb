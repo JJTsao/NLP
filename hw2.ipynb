{
 "cells": [
  {
   "cell_type": "code",
   "execution_count": 161,
   "metadata": {},
   "outputs": [],
   "source": [
    "import requests\n",
    "from bs4 import BeautifulSoup\n",
    "import re"
   ]
  },
  {
   "cell_type": "code",
   "execution_count": 162,
   "metadata": {},
   "outputs": [],
   "source": [
    "def get_webpage(url, tag, attr_type, val): # 先寫死 attribute: id\n",
    "    r = requests.get(url)\n",
    "    soup = BeautifulSoup(r.text, \"html.parser\")\n",
    "    if attr_type == \"id\":\n",
    "        result = soup.find(tag, id=val)\n",
    "    elif attr_type == \"class\":\n",
    "        result = soup.find_all(tag, class_=val) # class 是保留字, bs4 用 class_\n",
    "    return result"
   ]
  },
  {
   "cell_type": "code",
   "execution_count": 163,
   "metadata": {},
   "outputs": [],
   "source": [
    "def get_movie_pages(menuUrl):\n",
    "    movieList = get_webpage(menuUrl, \"div\", \"class\", \"release_movie_name\")\n",
    "    moviePages = list()\n",
    "    for movie in movieList:\n",
    "        # print(movie.select(\"a\"))\n",
    "        movieChiName = re.sub(r'\\s', '', movie.select(\"a\")[0].text)\n",
    "        movieEngName = re.sub(r'\\s', '', movie.select(\"a\")[1].text)\n",
    "        movieUrl = movie.select(\"a\")[0]['href']\n",
    "        moviePages.append([movieChiName, movieEngName, movieUrl])\n",
    "    return moviePages"
   ]
  },
  {
   "cell_type": "code",
   "execution_count": 237,
   "metadata": {},
   "outputs": [],
   "source": [
    "def get_movie_info(movieInfo):\n",
    "    # 分類\n",
    "    movieClassSec = get_webpage(movieInfo[2], \"div\", \"class\", \"level_name_box\")\n",
    "    movieInfo.append([re.sub(r'\\s', '', movieCls.text) for movieCls in movieClassSec[0].select(\"a\")])\n",
    "    # 上映次數\n",
    "    moviePage = get_webpage(movieInfo[2], \"div\", \"class\", \"movie_intro_info_r\")\n",
    "    movieInfo.append(moviePage[0].find(\"span\").text)\n",
    "    # 劇情介紹\n",
    "    movieStory = get_webpage(movieInfo[2], \"span\", \"id\", \"story\")\n",
    "    movieInfo.append(re.sub(r'\\s', '', movieStory.text))\n",
    "    \n",
    "    return movieInfo"
   ]
  },
  {
   "cell_type": "code",
   "execution_count": 236,
   "metadata": {},
   "outputs": [
    {
     "name": "stdout",
     "output_type": "stream",
     "text": [
      "[[['自殺突擊隊：集結', 'TheSuicideSquad', 'https://movies.yahoo.com.tw/movieinfo_main/%E8%87%AA%E6%AE%BA%E7%AA%81%E6%93%8A%E9%9A%8A-%E9%9B%86%E7%B5%90-the-suicide-squad-11328', ['動作', '冒險'], '上映日期：2021-08-05', '\\n            歡迎來到地獄—全美死亡率最高的「美夢監獄」。那裡關押著最兇惡的超級反派，他們為了逃離該處願意付出任何代價，甚至不惜加入超級神祕又黑幕重重的X特遣隊。這次九死一生的任務是什麼呢？首先結集「血腥運動」、「和平使者」、「迴旋鏢隊長」、「捕鼠人2」、「智者」、「鯊魚王」、「黑色守衛」、「標槍」，以及大家最喜歡的精神病患「哈莉奎茵」等一幫罪犯，給他們配上最精良的重裝武器，再把他們扔…請注意真的是用扔的，到與世隔絕又布滿敵軍的柯多瑪堤小島。他們徒步穿越每個角落都藏滿敵對兵力和武裝傭兵的叢林，突擊隊員在瑞克佛萊格上校一人隨行並帶領管束下，執行著搜索及摧毀的任務…'], ['驅魔禁區', 'Demonic', 'https://movies.yahoo.com.tw/movieinfo_main/%E9%A9%85%E9%AD%94%E7%A6%81%E5%8D%80-demonic-11439', ['科幻', '恐怖', '懸疑/驚悚'], '上映日期：2021-08-05', '\\n            ★ 《第九禁區》《極樂世界》導演全新超自然科幻懼作'], ['路卡的夏天', 'LUCA', 'https://movies.yahoo.com.tw/movieinfo_main/%E8%B7%AF%E5%8D%A1%E7%9A%84%E5%A4%8F%E5%A4%A9-luca-11268', ['動畫', '冒險'], '上映日期：2021-08-06', '\\n            皮克斯全新原創《路卡的夏天》，故事背景發生在美麗的義大利濱海小鎮里維埃拉，一位名叫路卡的海怪男孩的難忘夏天，他與新摯友們在夏天經歷的無數冒險，包含他們在島上參加的競賽，但最刺激的不是競賽本身，而是隱藏他們呼之欲出的海怪身份…'], ['薄荷糖', 'PeppermintCandy', 'https://movies.yahoo.com.tw/movieinfo_main/%E8%96%84%E8%8D%B7%E7%B3%96-peppermint-candy-11368', ['劇情'], '上映日期：2021-08-06', '\\n            ★韓國重量級名導李滄東「綠色三部曲」之一！\\xa0'], ['人聲', 'TheHumanVoice', 'https://movies.yahoo.com.tw/movieinfo_main/%E4%BA%BA%E8%81%B2-the-human-voice-11400', ['劇情'], '上映日期：2021-08-06', '\\n            一個焦慮的女人等著要跟她分手的男人可以出現，取回他的行李，心裡有著一絲絲盼望，也許可以有轉圜的餘地。但是三天的枯等讓她心灰意冷，甚至將男人的衣物放在床上用買來的斧頭砍破洩恨。男人養的狗跟女人一樣焦慮，牠對他的依戀不亞於女人！但是他們都等不到回心轉意的男人'], ['雙面薇若妮卡經典數位修復', 'TheDoubleLifeofVeronique', 'https://movies.yahoo.com.tw/movieinfo_main/%E9%9B%99%E9%9D%A2%E8%96%87%E8%8B%A5%E5%A6%AE%E5%8D%A1-%E7%B6%93%E5%85%B8%E6%95%B8%E4%BD%8D%E4%BF%AE%E5%BE%A9-the-double-life-of-veronique-11425', ['劇情'], '上映日期：2021-08-06', '\\n            ★ 1991坎城影展最佳女主角、國際影評人費比西獎、人道主義精神獎'], ['合法伴侶', 'SpecialCouple', 'https://movies.yahoo.com.tw/movieinfo_main/%E5%90%88%E6%B3%95%E4%BC%B4%E4%BE%B6-special-couple-11441', ['愛情'], '上映日期：2021-08-06', '\\n            ★英國倫敦的異國追愛故事！無論是男女戀，還是男男戀？結婚才是合法，敢登記才是真愛'], ['甲子園：夢想競技場', \"Koshien:Japan'sFieldofDreams\", 'https://movies.yahoo.com.tw/movieinfo_main/%E7%94%B2%E5%AD%90%E5%9C%92-%E5%A4%A2%E6%83%B3%E7%AB%B6%E6%8A%80%E5%A0%B4-koshien-japans-field-of-dreams-11449', ['紀錄片'], '上映日期：2021-08-06', '\\n            汗水淚水噴發的青春，甲子園熱度節節高升！'], ['青春：第50屆日本全國高中棒球錦標賽', 'Youth:The50thNationalHighSchoolBaseballTournament', 'https://movies.yahoo.com.tw/movieinfo_main/%E9%9D%92%E6%98%A5-%E7%AC%AC50%E5%B1%86%E6%97%A5%E6%9C%AC%E5%85%A8%E5%9C%8B%E9%AB%98%E4%B8%AD%E6%A3%92%E7%90%83%E9%8C%A6%E6%A8%99%E8%B3%BD-youth-the-50th-national-high-school-baseball-tournament-11450', ['紀錄片'], '上映日期：2021-08-06', '\\n            一代名導市川崑最膾炙人口的傳奇傑作'], ['隱瞞之事秘密之事是什麼？', 'KoujiKumeta,KODANSHA/KAKUSHIGOTOMovieCommittee', 'https://movies.yahoo.com.tw/movieinfo_main/%E9%9A%B1%E7%9E%9E%E4%B9%8B%E4%BA%8B-%E7%A7%98%E5%AF%86%E4%B9%8B%E4%BA%8B%E6%98%AF%E4%BB%80%E9%BA%BC-kouji-kumeta-kodanshakakushigoto-movie-committee-11434', ['動畫'], '上映日期：2021-08-07', '\\n            隱藏的事是什麼呢？']], [['叢林奇航', 'JungleCruise', 'https://movies.yahoo.com.tw/movieinfo_main/%E5%8F%A2%E6%9E%97%E5%A5%87%E8%88%AA-jungle-cruise-10315', ['動作', '冒險', '奇幻'], '上映日期：2021-07-30', '\\n            故事描述一位名叫霍頓博士（艾蜜莉布朗 飾演）發現了深藏在亞馬遜裡，有著一顆擁有治癒神力的奇幻之樹，而要取得這棵樹的神力，必須帶著一個被人類收藏的「神奇箭頭」來解開它，霍頓博士決定要深入叢林，來一探這個傳說的究竟，她找來了一個看似可靠，但其實是個只想詐騙遊客的狡猾渡輪船長—法蘭克船長（巨石強森 飾演），她雇用法蘭克載著自己與弟弟（傑克懷特霍爾 飾演）前往叢林展開這場解開神秘傳說之謎的旅程。'], ['LIPXLIP享受這世界的方法', 'LIPXLIPFILMXLIVE', 'https://movies.yahoo.com.tw/movieinfo_main/LIP-X-LIP%E4%BA%AB%E5%8F%97%E9%80%99%E4%B8%96%E7%95%8C%E7%9A%84%E6%96%B9%E6%B3%95-lip-x-lip-film-x-live-11364', ['動畫'], '上映日期：2021-07-30', '\\n★日本百萬訂閱品牌VOCALOID樂團HoneyWorks 10週年特別企劃，偶像團體組合「LIP X LIP」成團歷程首度公開！另一組偶像雙人團體「ASCANA（あすかな）」更驚喜助陣'], ['小王子公主心', 'PetiteFille', 'https://movies.yahoo.com.tw/movieinfo_main/%E5%B0%8F%E7%8E%8B%E5%AD%90%E5%85%AC%E4%B8%BB%E5%BF%83-petite-fille-11389', ['紀錄片'], '上映日期：2021-07-30', '\\n            ★ 4座最佳紀錄片獎得主\\xa0 \\xa0千萬觀眾感動淚推，動人鉅獻！'], ['淘寶少年', 'SunChildren', 'https://movies.yahoo.com.tw/movieinfo_main/%E6%B7%98%E5%AF%B6%E5%B0%91%E5%B9%B4-sun-children-11396', ['劇情'], '上映日期：2021-07-30', '\\n            ★入選 威尼斯影展競賽片最佳影片'], ['詭老', 'Old', 'https://movies.yahoo.com.tw/movieinfo_main/%E8%A9%AD%E8%80%81-old-11409', ['懸疑/驚悚'], '上映日期：2021-07-30', '\\n            獨具遠見的導演奈沙馬蘭將推出一部令人不寒而慄、疑雲重重的全新驚悚片，故事描述一個家庭前往熱帶地帶度假時，發現他們才剛在夏日海灘放鬆了幾個小時，竟然就迅速衰老，在一天內過完他們的一生。'], ['罪之聲', 'TheVoiceofSin', 'https://movies.yahoo.com.tw/movieinfo_main/%E7%BD%AA%E4%B9%8B%E8%81%B2-the-voice-of-sin-11420', ['劇情', '懸疑/驚悚'], '上映日期：2021-07-30', '\\n            ★ 實力派演員小栗旬、「全能才子」星野源首度精彩共演'], ['破碎的瞬間', 'MyBlood&BonesinaflowingGalaxy', 'https://movies.yahoo.com.tw/movieinfo_main/%E7%A0%B4%E7%A2%8E%E7%9A%84%E7%9E%AC%E9%96%93-my-blood-bones-in-a-flowing-galaxy-11421', ['奇幻', '劇情', '懸疑/驚悚'], '上映日期：2021-07-30', '\\n            ★2021金馬奇幻影展 口碑好評沸騰'], ['理髮師的男人經典數位修復', \"TheHairdresser'sHusband\", 'https://movies.yahoo.com.tw/movieinfo_main/%E7%90%86%E9%AB%AE%E5%B8%AB%E7%9A%84%E7%94%B7%E4%BA%BA-%E7%B6%93%E5%85%B8%E6%95%B8%E4%BD%8D%E4%BF%AE%E5%BE%A9-the-hairdressers-husband-11429', ['愛情'], '上映日期：2021-07-30', '\\n            “答應我一件事，當你不再愛我的那天，不要假裝你還愛我”'], ['除暴', 'CaughtInTime', 'https://movies.yahoo.com.tw/movieinfo_main/%E9%99%A4%E6%9A%B4-caught-in-time-11431', ['動作', '犯罪'], '上映日期：2021-07-30', '\\n            ★ 超級硬派警匪決戰，6年內犯下破萬件搶案的最強悍匪與刑警強力對決'], ['太陽出來之後', 'UndertheOpenSky', 'https://movies.yahoo.com.tw/movieinfo_main/%E5%A4%AA%E9%99%BD%E5%87%BA%E4%BE%86%E4%B9%8B%E5%BE%8C-under-the-open-sky-11435', ['劇情'], '上映日期：2021-07-30', '\\n            ★ 一個出獄大叔的救贖之路！改編自直木賞獲獎小說《身分帳》']], [['玩命關頭9', 'Fast&Furious9', 'https://movies.yahoo.com.tw/movieinfo_main/%E7%8E%A9%E5%91%BD%E9%97%9C%E9%A0%AD9-fast-furious-9-10482', ['動作', '冒險'], '上映日期：2021-08-11', '\\n            馮迪索飾演的唐老大和莉蒂與他的兒子小布萊恩，正在過著與世隔絕的平靜生活，但是他們都知道這種平靜的生活隨時隨地都會受到致命危機的威脅。這次，這個威脅將逼迫唐老大面對他過去犯下的罪孽，如果他想要拯救他最愛的人們。他的團隊將再度攜手合作，槓上他們遇過最高竿的職業刺客和飆速車手，並且阻止他摧毀全世界的邪惡計畫。這個神秘人物也正好是早就被唐老大切斷兄弟關係的親弟弟雅各（約翰希南 飾）。'], ['脫稿玩家', 'Originaltitle:FreeGuy', 'https://movies.yahoo.com.tw/movieinfo_main/%E8%84%AB%E7%A8%BF%E7%8E%A9%E5%AE%B6-original-title-free-guy-11445', ['動作', '喜劇'], '上映日期：2021-08-12', '\\n            《脫稿玩家》 故事描述一個銀行小職員 - 蓋伊 (萊恩雷諾斯) 日復一日年復一年做著無聊的工作，過著樸實無華的生活，直到有一天他突然發現自己是一個暴力電玩中可有可無的配角，他想要突破現狀，但這個動作竟讓整個遊戲大變調，除了要挑戰層層關卡，還要拯救世界，更重要的是否能從C咖一躍成A咖呢？'], ['被偷走的童年', 'WhenHitlerStolePinkRabbit', 'https://movies.yahoo.com.tw/movieinfo_main/%E8%A2%AB%E5%81%B7%E8%B5%B0%E7%9A%84%E7%AB%A5%E5%B9%B4-when-hitler-stole-pink-rabbit-11351', ['歷史/傳記', '劇情'], '上映日期：2021-08-13', '\\n★《何處是我家》奧斯卡金獎導演卡洛琳林克最新作品'], ['感動她77次', '77Heartwarmings', 'https://movies.yahoo.com.tw/movieinfo_main/%E6%84%9F%E5%8B%95%E5%A5%B977%E6%AC%A1-77-heartwarmings-11394', ['愛情', '劇情'], '上映日期：2021-08-13', '\\n            ★香港天后蔡卓妍，帥氣男星周柏豪、再加上泰國偶像男神馬力歐共同演出糾心三角戀，想挽回10年感情的前男友，和突然出現的貼心帥哥，你要回首舊愛還是擁抱新戀情？'], ['汪汪隊立大功電影版', 'PAWPatrol:TheMovie', 'https://movies.yahoo.com.tw/movieinfo_main/%E6%B1%AA%E6%B1%AA%E9%9A%8A%E7%AB%8B%E5%A4%A7%E5%8A%9F%E9%9B%BB%E5%BD%B1%E7%89%88-paw-patrol-the-movie-11411', ['動畫', '冒險'], '上映日期：2021-08-13', '\\n            《汪汪隊立大功電影版》汪汪隊出發救援！'], ['第六感追緝令', 'BasicInstinct', 'https://movies.yahoo.com.tw/movieinfo_main/%E7%AC%AC%E5%85%AD%E6%84%9F%E8%BF%BD%E7%B7%9D%E4%BB%A4-basic-instinct-11427', ['劇情', '懸疑/驚悚'], '上映日期：2021-08-13', '\\n            舊金山警探尼克負責調查一宗離奇凶殺案，死者是在性高潮時被冰錐戳死，尼克循線追到一名女作家凱薩琳，她書中的兇殺案，在日後都會成真。尼克咬定凱薩琳就是嫌犯，卻在追查凱薩琳的途中一步一步踩進她為他設下的陷阱…\\xa0'], ['未來之書', 'TheBookofVision', 'https://movies.yahoo.com.tw/movieinfo_main/%E6%9C%AA%E4%BE%86%E4%B9%8B%E6%9B%B8-the-book-of-vision-11433', ['奇幻', '劇情'], '上映日期：2021-08-13', '\\n            女醫生放棄了人人稱羨的前程，來到大學鑽研醫學史。她發現一名十八世紀醫生的手稿，除了記載病人的身體狀況，也描繪他們的心理和夢境，讓她深深著迷。纏繞於字裡行間的情緒與記憶，彷彿引領她回到那個年代：懷孕的軍官夫人只能壓抑自己真實的愛，流產的女傭深信死去的孩子被森林的樹木看照著；而她彷彿能穿越時間的限制與這些靈魂交會，找到生命的出口。'], ['特種部隊：蛇眼之戰', 'SnakeEyes', 'https://movies.yahoo.com.tw/movieinfo_main/%E7%89%B9%E7%A8%AE%E9%83%A8%E9%9A%8A-%E8%9B%87%E7%9C%BC%E4%B9%8B%E6%88%B0-snake-eyes-10461', ['動作', '冒險'], '上映日期：2021-08-18', '\\n            《特種部隊：蛇眼之戰》一片由亨利高汀領銜主演蛇眼，一個充滿決心毅力的獨行俠，在拯救了一個古老日本忍者家族---嵐影氏族的指定接班人之後，被納入這個家族。他在前往日本之後，嵐影氏族就開始教導蛇眼成為忍者戰士的各種技能，同時也給了一個他從小就一直渴望的東西：一個家。但是當關於他過去的秘密漸漸揭露之後，蛇眼的榮譽感和忠誠度將受到嚴苛的考驗－即便那可能代表他會失去與他最親密的人的信任。《特種部隊：蛇眼之戰》一片演員陣容堅強，包括飾演白幽靈的安德魯光司、飾演男爵夫人的烏蘇拉可貝蘿、飾演史嘉蕾的薩瑪拉威明、飾演亞希子的安部春香、飾演健太的平岳大，以及飾演嵐影宗師的伊科烏艾斯。'], ['追憶人', 'Reminiscence', 'https://movies.yahoo.com.tw/movieinfo_main/%E8%BF%BD%E6%86%B6%E4%BA%BA-reminiscence-11410', ['科幻', '劇情', '懸疑/驚悚'], '上映日期：2021-08-19', '\\n            尼克班尼斯特（休傑克曼 飾演）是一位調查記憶的私家偵探，專門探索暗黑又誘人的過去世界，幫助客戶找回逝去的回憶。住在邁阿密淹沒海灘邊緣的他，在接下新客戶—梅（蕾貝卡弗格森 飾演）的案件後，人生就此改變。原本只是單純協尋的任務，卻演變成一段危險的愛戀。班尼斯特努力尋找梅失蹤真相的同時，意外揭開了一起暴力犯罪陰謀，導致他最終必須面臨這樣的難題︰為了守住自己愛的人，你願意付出多少？'], ['寶貝老闆：家大業大', 'TheBossBaby:FamilyBusiness', 'https://movies.yahoo.com.tw/movieinfo_main/%E5%AF%B6%E8%B2%9D%E8%80%81%E9%97%86-%E5%AE%B6%E5%A4%A7%E6%A5%AD%E5%A4%A7-the-boss-baby-family-business-11084', ['動畫', '喜劇'], '上映日期：2021-08-20', '\\n            在夢工廠動畫入圍奧斯卡金像獎的賣座動畫片《寶貝老闆》續集電影《寶貝老闆：家大業大》一片中，天普頓兄弟－提姆（《X戰警》系列電影詹姆斯馬斯登 配音）和他的寶貝老闆小弟弟泰德（亞歷鮑德溫 配音）－早已長大成人並且漸行漸遠。提姆已經結婚生子，而且是一個家庭主夫，泰德則是一家避險基金公司的執行長。但是一個作風強勢、積極主動的全新寶貝老闆，即將把這對兄弟再湊在一起，並且啟發他們建立全新的家族事業。']]]\n"
     ]
    }
   ],
   "source": [
    "def main():\n",
    "    sel = get_webpage(\"https://movies.yahoo.com.tw/\", \"ul\", \"id\", \"mainmenu\").select(\"a\")\n",
    "    mainmenu = dict()\n",
    "    for s in sel:\n",
    "        for t in ['本週新片', '上映中', '即將上映']: \n",
    "            if t in s.text: # 是以上這些種類的, 連結存放到 main menu\n",
    "                mainmenu[t] = s['href']\n",
    "    movieMenu = list()\n",
    "    for movie, url in mainmenu.items(): # movieMenu: [[[Name, Name, Url], [Name, Name, Url]], [...]]\n",
    "        movieMenu.append(get_movie_pages(url))\n",
    "        # pass\n",
    "    movieInfo = list()\n",
    "    for movieList in movieMenu: # movieList: [[Name, Name, Url], [Name, Name, Url]]\n",
    "        tmp = list()\n",
    "        for movie in movieList: # movie: [Name, Name, Url]\n",
    "            tmp.append(get_movie_info(movie))\n",
    "        movieInfo.append(tmp)\n",
    "    file.\n",
    "    # print(movieInfo)\n",
    "main()"
   ]
  },
  {
   "cell_type": "code",
   "execution_count": null,
   "metadata": {},
   "outputs": [],
   "source": []
  },
  {
   "cell_type": "code",
   "execution_count": null,
   "metadata": {},
   "outputs": [],
   "source": []
  },
  {
   "cell_type": "code",
   "execution_count": null,
   "metadata": {},
   "outputs": [],
   "source": []
  },
  {
   "cell_type": "code",
   "execution_count": null,
   "metadata": {},
   "outputs": [],
   "source": []
  }
 ],
 "metadata": {
  "kernelspec": {
   "display_name": "Python 3",
   "language": "python",
   "name": "python3"
  },
  "language_info": {
   "codemirror_mode": {
    "name": "ipython",
    "version": 3
   },
   "file_extension": ".py",
   "mimetype": "text/x-python",
   "name": "python",
   "nbconvert_exporter": "python",
   "pygments_lexer": "ipython3",
   "version": "3.7.6"
  }
 },
 "nbformat": 4,
 "nbformat_minor": 4
}
